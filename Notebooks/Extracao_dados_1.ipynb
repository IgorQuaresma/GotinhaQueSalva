{
 "cells": [
  {
   "cell_type": "markdown",
   "metadata": {},
   "source": [
    "## Importando as bibliotecas"
   ]
  },
  {
   "cell_type": "code",
   "execution_count": 12,
   "metadata": {},
   "outputs": [],
   "source": [
    "#Download all the necessary libs \n",
    "import pandas as pd\n",
    "import matplotlib.pyplot as plt\n",
    "import matplotlib.ticker as ticker\n",
    "import seaborn as sns\n",
    "import numpy as np\n",
    "import warnings\n",
    "warnings.filterwarnings('ignore')"
   ]
  },
  {
   "cell_type": "markdown",
   "metadata": {},
   "source": [
    "Data source http://tabnet.datasus.gov.br/cgi/tabcgi.exe?pni/cnv/cpniuf.def"
   ]
  },
  {
   "cell_type": "markdown",
   "metadata": {},
   "source": [
    "## Dados Poliomielite 074 "
   ]
  },
  {
   "cell_type": "code",
   "execution_count": 38,
   "metadata": {},
   "outputs": [],
   "source": [
    "def formatar_SUS_dataframe(link, nome_saida):\n",
    "    '''Formata um arquivo csv da base de imunizações do DATASUS / \n",
    "    Format a csv file from the DATASUS base into a pandas dataframe '''\n",
    "    df = pd.read_csv(link, \n",
    "                        encoding=\"ISO-8859-1\",\n",
    "                        sep=\";\", \n",
    "                        skipfooter=1,\n",
    "                        thousands=\".\",\n",
    "                        decimal=',')\n",
    "\n",
    "    #Formatting the data \n",
    "\n",
    "    #Removing total column \n",
    "    df = df.drop(\" Total\", axis=1)\n",
    "    df\n",
    "\n",
    "\n",
    "    #Rename first column\n",
    "    df = df.rename(columns={'Unidade da Federação':'UF'})\n",
    "\n",
    "\n",
    "    \n",
    "\n",
    "    #Dictionary with the values that should be changed \n",
    "    nomes_regioes = {1:\"Norte\", 2:\"Nordeste\", 3:\"Sudeste\", 4:\"Sul\", 5:\"Centro-Oeste\"}\n",
    "\n",
    "    #Create the region column  \n",
    "    df['Regiao']  = df['UF'].map(lambda x : int(x.split()[0][0]))\n",
    "    df['Regiao'] = df['Regiao'].map(nomes_regioes)\n",
    "\n",
    "\n",
    "    #Format the UF column with only the state name\n",
    "    df['UF'] = df['UF'].map(lambda x : ' '.join(map(str, x.split()[1:])))\n",
    "    \n",
    "    \n",
    "    #Create exit formatted  file\n",
    "    return df.to_csv(nome_saida)"
   ]
  },
  {
   "cell_type": "code",
   "execution_count": 39,
   "metadata": {},
   "outputs": [],
   "source": [
    "formatar_SUS_dataframe('https://raw.githubusercontent.com/IgorQuaresma/GotinhaQueSalva/main/Data/csv/CoberturasVacinaisPorAnoPoliomielite_074.csv','CoberturasVacinaisPorAnoPoliomielite_074_formatado.csv')"
   ]
  },
  {
   "cell_type": "markdown",
   "metadata": {},
   "source": [
    "## Dados População IBGE"
   ]
  },
  {
   "cell_type": "code",
   "execution_count": 113,
   "metadata": {},
   "outputs": [],
   "source": [
    "def tabela_pop_html(link, nome_saida):\n",
    "\n",
    "    df = pd.read_html(link)\n",
    "    df = df[0]\n",
    "    df.columns = ['posicao','UF','populacao','porc_pop','pais_comp']\n",
    "    df = df.drop(['posicao','porc_pop','pais_comp'], axis=1)\n",
    "    \n",
    "    df['populacao'] = df['populacao'].str.replace(' ','').astype('int')\n",
    "    \n",
    "    return df.to_csv(nome_saida)\n"
   ]
  },
  {
   "cell_type": "code",
   "execution_count": 115,
   "metadata": {},
   "outputs": [],
   "source": [
    "tabela_pop_html('https://pt.wikipedia.org/wiki/Lista_de_unidades_federativas_do_Brasil_por_popula%C3%A7%C3%A3o', 'EstimativaPopUFs.csv')"
   ]
  },
  {
   "cell_type": "code",
   "execution_count": 104,
   "metadata": {},
   "outputs": [
    {
     "data": {
      "text/plain": [
       "0     46.289.333\n",
       "1     21.292.666\n",
       "2     17.366.189\n",
       "3     14.930.634\n",
       "4     11.516.840\n",
       "5     11.422.973\n",
       "6      9.616.621\n",
       "7      9.187.103\n",
       "8      8.690.745\n",
       "9      7.252.502\n",
       "10     7.114.598\n",
       "11     7.113.540\n",
       "12     4.207.714\n",
       "13     4.064.052\n",
       "14     4.039.277\n",
       "15     3.534.165\n",
       "16     3.526.220\n",
       "17     3.351.543\n",
       "18     3.281.480\n",
       "19     3.055.149\n",
       "20     2.809.394\n",
       "21     2.318.822\n",
       "22     1.796.460\n",
       "23     1.590.248\n",
       "24       894.470\n",
       "25       861.773\n",
       "26       631.181\n",
       "Name: populacao, dtype: object"
      ]
     },
     "execution_count": 104,
     "metadata": {},
     "output_type": "execute_result"
    }
   ],
   "source": [
    "df['populacao'].str.replace(' ','.')"
   ]
  },
  {
   "cell_type": "code",
   "execution_count": 57,
   "metadata": {},
   "outputs": [],
   "source": [
    "def tabela_pop_html_pop(link, nome_saida):\n",
    "\n",
    "    df = pd.read_html(link)\n",
    "    df = df[0]\n",
    "    df.columns = ['posicao','UF','area_km2','porc_pop','pais_comp']\n",
    "    df = df.drop(['posicao','porc_pop','pais_comp'], axis=1)\n",
    "    \n",
    "    df['area_km2'] = df['area_km2'].str.replace(',','.').str.replace('\\xa0','').astype('float')\n",
    "    \n",
    "    \n",
    "    return df.to_csv(nome_saida)"
   ]
  },
  {
   "cell_type": "code",
   "execution_count": 58,
   "metadata": {},
   "outputs": [],
   "source": [
    "tabela_pop_html_pop('https://pt.wikipedia.org/wiki/Lista_de_unidades_federativas_do_Brasil_por_%C3%A1rea','EstimativaAreaUFs.csv')"
   ]
  },
  {
   "cell_type": "code",
   "execution_count": null,
   "metadata": {},
   "outputs": [],
   "source": []
  }
 ],
 "metadata": {
  "kernelspec": {
   "display_name": "Python 3",
   "language": "python",
   "name": "python3"
  },
  "language_info": {
   "codemirror_mode": {
    "name": "ipython",
    "version": 3
   },
   "file_extension": ".py",
   "mimetype": "text/x-python",
   "name": "python",
   "nbconvert_exporter": "python",
   "pygments_lexer": "ipython3",
   "version": "3.7.3"
  }
 },
 "nbformat": 4,
 "nbformat_minor": 2
}
